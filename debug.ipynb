{
 "cells": [
  {
   "cell_type": "code",
   "execution_count": 10,
   "metadata": {},
   "outputs": [],
   "source": [
    "import pandas as pd\n",
    "import os\n",
    "from alpaca.data.historical import StockHistoricalDataClient"
   ]
  },
  {
   "cell_type": "code",
   "execution_count": 11,
   "metadata": {},
   "outputs": [
    {
     "data": {
      "text/plain": [
       "['__abstractmethods__',\n",
       " '__class__',\n",
       " '__delattr__',\n",
       " '__dict__',\n",
       " '__dir__',\n",
       " '__doc__',\n",
       " '__eq__',\n",
       " '__format__',\n",
       " '__ge__',\n",
       " '__getattribute__',\n",
       " '__getstate__',\n",
       " '__gt__',\n",
       " '__hash__',\n",
       " '__init__',\n",
       " '__init_subclass__',\n",
       " '__le__',\n",
       " '__lt__',\n",
       " '__module__',\n",
       " '__ne__',\n",
       " '__new__',\n",
       " '__reduce__',\n",
       " '__reduce_ex__',\n",
       " '__repr__',\n",
       " '__setattr__',\n",
       " '__sizeof__',\n",
       " '__slots__',\n",
       " '__str__',\n",
       " '__subclasshook__',\n",
       " '__weakref__',\n",
       " '_abc_impl',\n",
       " '_api_key',\n",
       " '_api_version',\n",
       " '_base_url',\n",
       " '_data_get',\n",
       " '_get_auth_headers',\n",
       " '_get_default_headers',\n",
       " '_oauth_token',\n",
       " '_one_request',\n",
       " '_request',\n",
       " '_retry',\n",
       " '_retry_codes',\n",
       " '_retry_wait',\n",
       " '_return_paginated_result',\n",
       " '_sandbox',\n",
       " '_secret_key',\n",
       " '_session',\n",
       " '_use_basic_auth',\n",
       " '_use_raw_data',\n",
       " '_validate_credentials',\n",
       " '_validate_pagination',\n",
       " 'delete',\n",
       " 'get',\n",
       " 'get_stock_bars',\n",
       " 'get_stock_latest_bar',\n",
       " 'get_stock_latest_quote',\n",
       " 'get_stock_latest_trade',\n",
       " 'get_stock_quotes',\n",
       " 'get_stock_snapshot',\n",
       " 'get_stock_trades',\n",
       " 'patch',\n",
       " 'post',\n",
       " 'put',\n",
       " 'response_wrapper']"
      ]
     },
     "execution_count": 11,
     "metadata": {},
     "output_type": "execute_result"
    }
   ],
   "source": [
    "api_key = os.environ[\"ALPACA_KEY\"]\n",
    "api_secret = os.environ[\"ALPACA_SECRET\"]\n",
    "client = StockHistoricalDataClient(api_key, api_secret)"
   ]
  }
 ],
 "metadata": {
  "kernelspec": {
   "display_name": "Python 3",
   "language": "python",
   "name": "python3"
  },
  "language_info": {
   "codemirror_mode": {
    "name": "ipython",
    "version": 3
   },
   "file_extension": ".py",
   "mimetype": "text/x-python",
   "name": "python",
   "nbconvert_exporter": "python",
   "pygments_lexer": "ipython3",
   "version": "3.12.3"
  }
 },
 "nbformat": 4,
 "nbformat_minor": 2
}
